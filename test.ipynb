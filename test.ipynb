{
 "cells": [
  {
   "cell_type": "code",
   "execution_count": 67,
   "metadata": {},
   "outputs": [],
   "source": [
    "import duckdb\n",
    "import pandas as pd\n",
    "\n",
    "con_searches=duckdb.connect('searches.db')\n",
    "con_relat=duckdb.connect('alberogenealogico.db')\n",
    "#data = con.sql(query).df()\n",
    "#con.close()\n"
   ]
  },
  {
   "cell_type": "code",
   "execution_count": 51,
   "metadata": {},
   "outputs": [],
   "source": [
    "df=con_searches.sql(f'''SELECT * FROM SEARCHES  ''').df()\n",
    "name_list=df['NOME_TROVATO'].str.split('|',expand=True)\n",
    "link_list=df['LINK_ALLE_PAGINE'].str.split('|',expand=True)\n",
    "existing_names=pd.concat([name_list.transpose(),link_list.transpose()],axis=1)\n",
    "existing_names.columns=['Nome','Link alla pagina']\n",
    "\n"
   ]
  },
  {
   "cell_type": "code",
   "execution_count": 57,
   "metadata": {},
   "outputs": [],
   "source": [
    "existing_names.columns=['Nome','Link alla pagina']"
   ]
  },
  {
   "cell_type": "code",
   "execution_count": 12,
   "metadata": {},
   "outputs": [],
   "source": [
    "df=con_relat.sql('SELECT * FROM LINKS_TO_REGISTRY limit 1').df()\n",
    "\n",
    "df['COGNOME']=''"
   ]
  },
  {
   "cell_type": "code",
   "execution_count": 66,
   "metadata": {},
   "outputs": [],
   "source": [
    "\n",
    "con_relat.close()\n",
    "con_searches.close()"
   ]
  },
  {
   "cell_type": "code",
   "execution_count": 65,
   "metadata": {},
   "outputs": [],
   "source": [
    "con_searches.sql('''DELETE  FROM SEARCHES''' )\n"
   ]
  },
  {
   "cell_type": "code",
   "execution_count": 68,
   "metadata": {},
   "outputs": [],
   "source": [
    "con_searches.sql('ALTER TABLE SEARCHES ADD COLUMN DATA_RICERCA TEXT ')"
   ]
  },
  {
   "cell_type": "code",
   "execution_count": 37,
   "metadata": {},
   "outputs": [
    {
     "name": "stdout",
     "output_type": "stream",
     "text": [
      "Nome1 lul\n",
      "Nome2 lel\n",
      "Link1 ciccio.it\n",
      "Link2 sterco.com\n"
     ]
    }
   ],
   "source": [
    "d={'Nome1':'lul','Nome2':'lel','Link1':'ciccio.it','Link2':'sterco.com'}\n",
    "for k,v in d.items():\n",
    "    print(k,v)"
   ]
  },
  {
   "cell_type": "code",
   "execution_count": 1,
   "metadata": {},
   "outputs": [
    {
     "name": "stdout",
     "output_type": "stream",
     "text": [
      "20240217\n"
     ]
    }
   ],
   "source": [
    "from datetime import datetime\n",
    "now = datetime.now()\n",
    "formatted = now.strftime(\"%Y%m%d\")\n",
    "print(formatted)"
   ]
  }
 ],
 "metadata": {
  "kernelspec": {
   "display_name": ".venv",
   "language": "python",
   "name": "python3"
  },
  "language_info": {
   "codemirror_mode": {
    "name": "ipython",
    "version": 3
   },
   "file_extension": ".py",
   "mimetype": "text/x-python",
   "name": "python",
   "nbconvert_exporter": "python",
   "pygments_lexer": "ipython3",
   "version": "3.11.7"
  }
 },
 "nbformat": 4,
 "nbformat_minor": 2
}
